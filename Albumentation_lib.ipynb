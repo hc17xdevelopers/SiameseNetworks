{
 "cells": [
  {
   "cell_type": "code",
   "execution_count": 1,
   "id": "fd763e51-a848-45c8-9f81-29eba5b4b7c1",
   "metadata": {},
   "outputs": [],
   "source": [
    "import random\n",
    "import cv2"
   ]
  },
  {
   "cell_type": "code",
   "execution_count": 2,
   "id": "4b59fa9a-02a7-422d-92db-0ede64667415",
   "metadata": {},
   "outputs": [],
   "source": [
    "import matplotlib.pyplot as plt"
   ]
  },
  {
   "cell_type": "code",
   "execution_count": 3,
   "id": "bf2ae2ca-cd2c-4bd8-aa61-70e86ba2ab3a",
   "metadata": {},
   "outputs": [
    {
     "name": "stdout",
     "output_type": "stream",
     "text": [
      "Defaulting to user installation because normal site-packages is not writeable\n",
      "Requirement already satisfied: albumentations in /home/hc17/.local/lib/python3.10/site-packages (1.3.1)\n",
      "Requirement already satisfied: opencv-python-headless>=4.1.1 in /home/hc17/.local/lib/python3.10/site-packages (from albumentations) (4.8.1.78)\n",
      "Requirement already satisfied: PyYAML in /usr/lib/python3/dist-packages (from albumentations) (5.4.1)\n",
      "Requirement already satisfied: scipy>=1.1.0 in /home/hc17/.local/lib/python3.10/site-packages (from albumentations) (1.11.4)\n",
      "Requirement already satisfied: numpy>=1.11.1 in /home/hc17/.local/lib/python3.10/site-packages (from albumentations) (1.25.2)\n",
      "Requirement already satisfied: scikit-image>=0.16.1 in /home/hc17/.local/lib/python3.10/site-packages (from albumentations) (0.22.0)\n",
      "Requirement already satisfied: qudida>=0.0.4 in /home/hc17/.local/lib/python3.10/site-packages (from albumentations) (0.0.4)\n",
      "Requirement already satisfied: scikit-learn>=0.19.1 in /home/hc17/.local/lib/python3.10/site-packages (from qudida>=0.0.4->albumentations) (1.3.2)\n",
      "Requirement already satisfied: typing-extensions in /home/hc17/.local/lib/python3.10/site-packages (from qudida>=0.0.4->albumentations) (4.8.0)\n",
      "Requirement already satisfied: lazy_loader>=0.3 in /home/hc17/.local/lib/python3.10/site-packages (from scikit-image>=0.16.1->albumentations) (0.3)\n",
      "Requirement already satisfied: imageio>=2.27 in /home/hc17/.local/lib/python3.10/site-packages (from scikit-image>=0.16.1->albumentations) (2.33.1)\n",
      "Requirement already satisfied: tifffile>=2022.8.12 in /home/hc17/.local/lib/python3.10/site-packages (from scikit-image>=0.16.1->albumentations) (2023.12.9)\n",
      "Requirement already satisfied: packaging>=21 in /home/hc17/.local/lib/python3.10/site-packages (from scikit-image>=0.16.1->albumentations) (23.2)\n",
      "Requirement already satisfied: networkx>=2.8 in /home/hc17/.local/lib/python3.10/site-packages (from scikit-image>=0.16.1->albumentations) (3.2.1)\n",
      "Requirement already satisfied: pillow>=9.0.1 in /home/hc17/.local/lib/python3.10/site-packages (from scikit-image>=0.16.1->albumentations) (10.2.0)\n",
      "Requirement already satisfied: threadpoolctl>=2.0.0 in /home/hc17/.local/lib/python3.10/site-packages (from scikit-learn>=0.19.1->qudida>=0.0.4->albumentations) (3.2.0)\n",
      "Requirement already satisfied: joblib>=1.1.1 in /home/hc17/.local/lib/python3.10/site-packages (from scikit-learn>=0.19.1->qudida>=0.0.4->albumentations) (1.3.2)\n"
     ]
    }
   ],
   "source": [
    "!pip install -U albumentations"
   ]
  },
  {
   "cell_type": "code",
   "execution_count": 4,
   "id": "2be71a9d-5a09-4976-94f4-176213e7b3c9",
   "metadata": {},
   "outputs": [],
   "source": [
    "import albumentations as A"
   ]
  },
  {
   "cell_type": "code",
   "execution_count": 5,
   "id": "bbb95f20-23e4-4677-9654-6531043fdc52",
   "metadata": {},
   "outputs": [],
   "source": [
    "def visualize(image):\n",
    "    plt.figure(figsize=(10, 10))\n",
    "    plt.axis('off')\n",
    "    plt.imshow(image)"
   ]
  },
  {
   "cell_type": "code",
   "execution_count": null,
   "id": "e0247470-a3a7-4c6b-853d-d25c81dab8a0",
   "metadata": {},
   "outputs": [],
   "source": [
    "import os\n",
    "import cv2\n",
    "import albumentations as A\n",
    "\n",
    "input_folder = \"class1/\"\n",
    "output_folder = \"aug1/\"\n",
    "\n",
    "# Define augmentation transformations\n",
    "transform = A.Compose([\n",
    "    A.CLAHE(),\n",
    "    A.Transpose(),\n",
    "    A.ShiftScaleRotate(shift_limit=0.0625, scale_limit=0.50, rotate_limit=45, p=.75),\n",
    "    A.HueSaturationValue(),\n",
    "])\n",
    "random.seed(42)\n",
    "\n",
    "# Iterate over each file in the input folder\n",
    "for filename in os.listdir(input_folder):\n",
    "    if filename.endswith(\".jpg\") or filename.endswith(\".png\") or filename.endswith(\".jpeg\"):\n",
    "        image_path = os.path.join(input_folder, filename)\n",
    "\n",
    "        # Load the image using OpenCV\n",
    "        image = cv2.imread(image_path)\n",
    "\n",
    "        # Define the number of augmentations you want\n",
    "        num_augmentations = 20  # Adjust this number as needed\n",
    "\n",
    "        # Apply augmentations\n",
    "        for i in range(num_augmentations):\n",
    "            augmented_image = transform(image=image)['image']\n",
    "\n",
    "            # Save each augmented image to the output folder with a unique filename\n",
    "            output_path = os.path.join(output_folder, f\"augmented_{filename[:-4]}_{i}.jpg\")\n",
    "            cv2.imwrite(output_path, augmented_image)\n"
   ]
  },
  {
   "cell_type": "code",
   "execution_count": 7,
   "id": "3f1e4007-8acc-46a7-8ad3-292a67502c73",
   "metadata": {},
   "outputs": [],
   "source": [
    "import os\n",
    "import cv2\n",
    "import albumentations as A\n",
    "\n",
    "input_folder = \"class2/\"\n",
    "output_folder = \"aug2/\"\n",
    "\n",
    "# Define augmentation transformations\n",
    "transform = A.Compose([\n",
    "    A.CLAHE(),\n",
    "    A.Transpose(),\n",
    "    A.ShiftScaleRotate(shift_limit=0.0625, scale_limit=0.50, rotate_limit=45, p=.75),\n",
    "    A.HueSaturationValue(),\n",
    "])\n",
    "random.seed(42)\n",
    "\n",
    "# Iterate over each file in the input folder\n",
    "for filename in os.listdir(input_folder):\n",
    "    if filename.endswith(\".jpg\") or filename.endswith(\".png\") or filename.endswith(\".jpeg\"):\n",
    "        image_path = os.path.join(input_folder, filename)\n",
    "\n",
    "        # Load the image using OpenCV\n",
    "        image = cv2.imread(image_path)\n",
    "\n",
    "        # Define the number of augmentations you want\n",
    "        num_augmentations = 10  # Adjust this number as needed\n",
    "\n",
    "        # Apply augmentations\n",
    "        for i in range(num_augmentations):\n",
    "            augmented_image = transform(image=image)['image']\n",
    "\n",
    "            # Save each augmented image to the output folder with a unique filename\n",
    "            output_path = os.path.join(output_folder, f\"augmented_{filename[:-4]}_{i}.jpg\")\n",
    "            cv2.imwrite(output_path, augmented_image)\n"
   ]
  },
  {
   "cell_type": "code",
   "execution_count": 8,
   "id": "c8eb9e1a-99b7-4c9c-8300-cbf74282fcca",
   "metadata": {},
   "outputs": [],
   "source": [
    "import os\n",
    "import cv2\n",
    "import albumentations as A\n",
    "\n",
    "input_folder = \"class3/\"\n",
    "output_folder = \"aug3/\"\n",
    "\n",
    "# Define augmentation transformations\n",
    "transform = A.Compose([\n",
    "    A.CLAHE(),\n",
    "    A.RandomRotate90(),\n",
    "    A.Transpose(),\n",
    "    A.ShiftScaleRotate(shift_limit=0.0625, scale_limit=0.50, rotate_limit=45, p=.75),\n",
    "    A.HueSaturationValue(),\n",
    "])\n",
    "random.seed(42)\n",
    "\n",
    "# Iterate over each file in the input folder\n",
    "for filename in os.listdir(input_folder):\n",
    "    if filename.endswith(\".jpg\") or filename.endswith(\".png\") or filename.endswith(\".jpeg\"):\n",
    "        image_path = os.path.join(input_folder, filename)\n",
    "\n",
    "        # Load the image using OpenCV\n",
    "        image = cv2.imread(image_path)\n",
    "\n",
    "        # Define the number of augmentations you want\n",
    "        num_augmentations = 10  # Adjust this number as needed\n",
    "\n",
    "        # Apply augmentations\n",
    "        for i in range(num_augmentations):\n",
    "            augmented_image = transform(image=image)['image']\n",
    "\n",
    "            # Save each augmented image to the output folder with a unique filename\n",
    "            output_path = os.path.join(output_folder, f\"augmented_{filename[:-4]}_{i}.jpg\")\n",
    "            cv2.imwrite(output_path, augmented_image)\n"
   ]
  },
  {
   "cell_type": "code",
   "execution_count": null,
   "id": "1ec138e6-763c-4106-8b29-c6fd48b551ea",
   "metadata": {},
   "outputs": [],
   "source": []
  }
 ],
 "metadata": {
  "kernelspec": {
   "display_name": "Python 3 (ipykernel)",
   "language": "python",
   "name": "python3"
  },
  "language_info": {
   "codemirror_mode": {
    "name": "ipython",
    "version": 3
   },
   "file_extension": ".py",
   "mimetype": "text/x-python",
   "name": "python",
   "nbconvert_exporter": "python",
   "pygments_lexer": "ipython3",
   "version": "3.10.12"
  }
 },
 "nbformat": 4,
 "nbformat_minor": 5
}
